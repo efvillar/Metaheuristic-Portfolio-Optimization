{
 "cells": [
  {
   "cell_type": "markdown",
   "metadata": {},
   "source": [
    "# Transformación de Datos para Algoritmo de Differential Evolution"
   ]
  },
  {
   "cell_type": "markdown",
   "metadata": {},
   "source": [
    "Transformación para un periodo anual"
   ]
  },
  {
   "cell_type": "code",
   "execution_count": 192,
   "metadata": {},
   "outputs": [],
   "source": [
    "import numpy as np\n",
    "import pandas as pd\n",
    "import scipy.stats as stats\n",
    "import os"
   ]
  },
  {
   "cell_type": "code",
   "execution_count": 3,
   "metadata": {},
   "outputs": [],
   "source": [
    "def carga_datos(path):\n",
    "    df = pd.read_parquet(path)\n",
    "    df.set_index('Date', inplace=True)\n",
    "    return df"
   ]
  },
  {
   "cell_type": "code",
   "execution_count": 6,
   "metadata": {},
   "outputs": [],
   "source": [
    "def annualize_rets(r, periods_per_year):\n",
    "    \"anualiza retorns desde subperiodos de año\"\n",
    "    compounded_growth = np.prod(1+r)\n",
    "    n_periods = r.shape[0]\n",
    "    return compounded_growth**(periods_per_year / n_periods)-1"
   ]
  },
  {
   "cell_type": "code",
   "execution_count": 4,
   "metadata": {},
   "outputs": [],
   "source": [
    "datos1 = carga_datos('./Data/train/opt-20130101-20141231.gzip')"
   ]
  },
  {
   "cell_type": "code",
   "execution_count": 16,
   "metadata": {},
   "outputs": [
    {
     "data": {
      "text/html": [
       "<div>\n",
       "<style scoped>\n",
       "    .dataframe tbody tr th:only-of-type {\n",
       "        vertical-align: middle;\n",
       "    }\n",
       "\n",
       "    .dataframe tbody tr th {\n",
       "        vertical-align: top;\n",
       "    }\n",
       "\n",
       "    .dataframe thead th {\n",
       "        text-align: right;\n",
       "    }\n",
       "</style>\n",
       "<table border=\"1\" class=\"dataframe\">\n",
       "  <thead>\n",
       "    <tr style=\"text-align: right;\">\n",
       "      <th>Stock</th>\n",
       "      <th>A</th>\n",
       "      <th>AAL</th>\n",
       "      <th>AAP</th>\n",
       "      <th>AAPL</th>\n",
       "      <th>ABC</th>\n",
       "      <th>ABMD</th>\n",
       "      <th>ABT</th>\n",
       "      <th>ACN</th>\n",
       "      <th>ADBE</th>\n",
       "      <th>ADI</th>\n",
       "      <th>...</th>\n",
       "      <th>XEL</th>\n",
       "      <th>XLNX</th>\n",
       "      <th>XOM</th>\n",
       "      <th>XRAY</th>\n",
       "      <th>XRX</th>\n",
       "      <th>XYL</th>\n",
       "      <th>YUM</th>\n",
       "      <th>ZBH</th>\n",
       "      <th>ZBRA</th>\n",
       "      <th>ZION</th>\n",
       "    </tr>\n",
       "    <tr>\n",
       "      <th>Date</th>\n",
       "      <th></th>\n",
       "      <th></th>\n",
       "      <th></th>\n",
       "      <th></th>\n",
       "      <th></th>\n",
       "      <th></th>\n",
       "      <th></th>\n",
       "      <th></th>\n",
       "      <th></th>\n",
       "      <th></th>\n",
       "      <th></th>\n",
       "      <th></th>\n",
       "      <th></th>\n",
       "      <th></th>\n",
       "      <th></th>\n",
       "      <th></th>\n",
       "      <th></th>\n",
       "      <th></th>\n",
       "      <th></th>\n",
       "      <th></th>\n",
       "      <th></th>\n",
       "    </tr>\n",
       "  </thead>\n",
       "  <tbody>\n",
       "    <tr>\n",
       "      <th>2014-12-24</th>\n",
       "      <td>-0.005801</td>\n",
       "      <td>0.024298</td>\n",
       "      <td>-0.005956</td>\n",
       "      <td>-0.004709</td>\n",
       "      <td>0.001969</td>\n",
       "      <td>0.003392</td>\n",
       "      <td>-0.000437</td>\n",
       "      <td>-0.001094</td>\n",
       "      <td>0.004840</td>\n",
       "      <td>0.000883</td>\n",
       "      <td>...</td>\n",
       "      <td>0.022580</td>\n",
       "      <td>0.004099</td>\n",
       "      <td>-0.008563</td>\n",
       "      <td>-0.004444</td>\n",
       "      <td>0.000711</td>\n",
       "      <td>0.001033</td>\n",
       "      <td>0.001513</td>\n",
       "      <td>0.007594</td>\n",
       "      <td>0.003202</td>\n",
       "      <td>-0.000351</td>\n",
       "    </tr>\n",
       "    <tr>\n",
       "      <th>2014-12-26</th>\n",
       "      <td>0.006078</td>\n",
       "      <td>0.010305</td>\n",
       "      <td>-0.001435</td>\n",
       "      <td>0.017677</td>\n",
       "      <td>-0.000982</td>\n",
       "      <td>0.004680</td>\n",
       "      <td>0.003282</td>\n",
       "      <td>-0.000657</td>\n",
       "      <td>-0.000937</td>\n",
       "      <td>-0.007582</td>\n",
       "      <td>...</td>\n",
       "      <td>0.009661</td>\n",
       "      <td>-0.003856</td>\n",
       "      <td>-0.006078</td>\n",
       "      <td>0.001488</td>\n",
       "      <td>0.004261</td>\n",
       "      <td>0.004902</td>\n",
       "      <td>0.004808</td>\n",
       "      <td>0.000526</td>\n",
       "      <td>-0.002936</td>\n",
       "      <td>0.001403</td>\n",
       "    </tr>\n",
       "    <tr>\n",
       "      <th>2014-12-29</th>\n",
       "      <td>-0.001208</td>\n",
       "      <td>0.017129</td>\n",
       "      <td>0.007625</td>\n",
       "      <td>-0.000702</td>\n",
       "      <td>0.001311</td>\n",
       "      <td>-0.004141</td>\n",
       "      <td>-0.005453</td>\n",
       "      <td>-0.008108</td>\n",
       "      <td>-0.007232</td>\n",
       "      <td>-0.003554</td>\n",
       "      <td>...</td>\n",
       "      <td>0.018316</td>\n",
       "      <td>-0.002960</td>\n",
       "      <td>-0.001502</td>\n",
       "      <td>-0.002043</td>\n",
       "      <td>0.004475</td>\n",
       "      <td>-0.002311</td>\n",
       "      <td>0.005742</td>\n",
       "      <td>-0.005868</td>\n",
       "      <td>-0.000640</td>\n",
       "      <td>0.005602</td>\n",
       "    </tr>\n",
       "    <tr>\n",
       "      <th>2014-12-30</th>\n",
       "      <td>0.000968</td>\n",
       "      <td>0.010785</td>\n",
       "      <td>-0.007381</td>\n",
       "      <td>-0.012203</td>\n",
       "      <td>-0.003820</td>\n",
       "      <td>-0.003118</td>\n",
       "      <td>0.001974</td>\n",
       "      <td>-0.003646</td>\n",
       "      <td>-0.014164</td>\n",
       "      <td>-0.009272</td>\n",
       "      <td>...</td>\n",
       "      <td>-0.023356</td>\n",
       "      <td>-0.005481</td>\n",
       "      <td>-0.000537</td>\n",
       "      <td>-0.007258</td>\n",
       "      <td>-0.009194</td>\n",
       "      <td>-0.011065</td>\n",
       "      <td>-0.003806</td>\n",
       "      <td>0.009427</td>\n",
       "      <td>0.003459</td>\n",
       "      <td>-0.001741</td>\n",
       "    </tr>\n",
       "    <tr>\n",
       "      <th>2014-12-31</th>\n",
       "      <td>-0.010394</td>\n",
       "      <td>0.003931</td>\n",
       "      <td>-0.004687</td>\n",
       "      <td>-0.019019</td>\n",
       "      <td>-0.012270</td>\n",
       "      <td>-0.007821</td>\n",
       "      <td>-0.014664</td>\n",
       "      <td>-0.009757</td>\n",
       "      <td>-0.005200</td>\n",
       "      <td>-0.000720</td>\n",
       "      <td>...</td>\n",
       "      <td>-0.012645</td>\n",
       "      <td>-0.005970</td>\n",
       "      <td>-0.006128</td>\n",
       "      <td>-0.001312</td>\n",
       "      <td>-0.010706</td>\n",
       "      <td>-0.009368</td>\n",
       "      <td>-0.005868</td>\n",
       "      <td>-0.010038</td>\n",
       "      <td>-0.011619</td>\n",
       "      <td>-0.005581</td>\n",
       "    </tr>\n",
       "  </tbody>\n",
       "</table>\n",
       "<p>5 rows × 465 columns</p>\n",
       "</div>"
      ],
      "text/plain": [
       "Stock              A       AAL       AAP      AAPL       ABC      ABMD  \\\n",
       "Date                                                                     \n",
       "2014-12-24 -0.005801  0.024298 -0.005956 -0.004709  0.001969  0.003392   \n",
       "2014-12-26  0.006078  0.010305 -0.001435  0.017677 -0.000982  0.004680   \n",
       "2014-12-29 -0.001208  0.017129  0.007625 -0.000702  0.001311 -0.004141   \n",
       "2014-12-30  0.000968  0.010785 -0.007381 -0.012203 -0.003820 -0.003118   \n",
       "2014-12-31 -0.010394  0.003931 -0.004687 -0.019019 -0.012270 -0.007821   \n",
       "\n",
       "Stock            ABT       ACN      ADBE       ADI  ...       XEL      XLNX  \\\n",
       "Date                                                ...                       \n",
       "2014-12-24 -0.000437 -0.001094  0.004840  0.000883  ...  0.022580  0.004099   \n",
       "2014-12-26  0.003282 -0.000657 -0.000937 -0.007582  ...  0.009661 -0.003856   \n",
       "2014-12-29 -0.005453 -0.008108 -0.007232 -0.003554  ...  0.018316 -0.002960   \n",
       "2014-12-30  0.001974 -0.003646 -0.014164 -0.009272  ... -0.023356 -0.005481   \n",
       "2014-12-31 -0.014664 -0.009757 -0.005200 -0.000720  ... -0.012645 -0.005970   \n",
       "\n",
       "Stock            XOM      XRAY       XRX       XYL       YUM       ZBH  \\\n",
       "Date                                                                     \n",
       "2014-12-24 -0.008563 -0.004444  0.000711  0.001033  0.001513  0.007594   \n",
       "2014-12-26 -0.006078  0.001488  0.004261  0.004902  0.004808  0.000526   \n",
       "2014-12-29 -0.001502 -0.002043  0.004475 -0.002311  0.005742 -0.005868   \n",
       "2014-12-30 -0.000537 -0.007258 -0.009194 -0.011065 -0.003806  0.009427   \n",
       "2014-12-31 -0.006128 -0.001312 -0.010706 -0.009368 -0.005868 -0.010038   \n",
       "\n",
       "Stock           ZBRA      ZION  \n",
       "Date                            \n",
       "2014-12-24  0.003202 -0.000351  \n",
       "2014-12-26 -0.002936  0.001403  \n",
       "2014-12-29 -0.000640  0.005602  \n",
       "2014-12-30  0.003459 -0.001741  \n",
       "2014-12-31 -0.011619 -0.005581  \n",
       "\n",
       "[5 rows x 465 columns]"
      ]
     },
     "execution_count": 16,
     "metadata": {},
     "output_type": "execute_result"
    }
   ],
   "source": [
    "datos1.tail()"
   ]
  },
  {
   "cell_type": "code",
   "execution_count": 99,
   "metadata": {},
   "outputs": [],
   "source": [
    "nombres = datos1.columns"
   ]
  },
  {
   "cell_type": "code",
   "execution_count": 100,
   "metadata": {},
   "outputs": [
    {
     "data": {
      "text/plain": [
       "Index(['A', 'AAL', 'AAP', 'AAPL', 'ABC', 'ABMD', 'ABT', 'ACN', 'ADBE', 'ADI',\n",
       "       ...\n",
       "       'XEL', 'XLNX', 'XOM', 'XRAY', 'XRX', 'XYL', 'YUM', 'ZBH', 'ZBRA',\n",
       "       'ZION'],\n",
       "      dtype='object', name='Stock', length=465)"
      ]
     },
     "execution_count": 100,
     "metadata": {},
     "output_type": "execute_result"
    }
   ],
   "source": [
    "nombres"
   ]
  },
  {
   "cell_type": "code",
   "execution_count": 7,
   "metadata": {},
   "outputs": [],
   "source": [
    "retornos = annualize_rets(datos1, 253)"
   ]
  },
  {
   "cell_type": "code",
   "execution_count": 148,
   "metadata": {},
   "outputs": [
    {
     "data": {
      "text/plain": [
       "Stock\n",
       "A      0.193463\n",
       "AAL    1.003660\n",
       "AAP    0.489474\n",
       "dtype: float64"
      ]
     },
     "execution_count": 148,
     "metadata": {},
     "output_type": "execute_result"
    }
   ],
   "source": [
    "retornos.head(3)"
   ]
  },
  {
   "cell_type": "code",
   "execution_count": 11,
   "metadata": {},
   "outputs": [],
   "source": [
    "vol_anual = datos1.cov()*np.sqrt(253)"
   ]
  },
  {
   "cell_type": "code",
   "execution_count": 147,
   "metadata": {},
   "outputs": [
    {
     "data": {
      "text/html": [
       "<div>\n",
       "<style scoped>\n",
       "    .dataframe tbody tr th:only-of-type {\n",
       "        vertical-align: middle;\n",
       "    }\n",
       "\n",
       "    .dataframe tbody tr th {\n",
       "        vertical-align: top;\n",
       "    }\n",
       "\n",
       "    .dataframe thead th {\n",
       "        text-align: right;\n",
       "    }\n",
       "</style>\n",
       "<table border=\"1\" class=\"dataframe\">\n",
       "  <thead>\n",
       "    <tr style=\"text-align: right;\">\n",
       "      <th>Stock</th>\n",
       "      <th>A</th>\n",
       "      <th>AAL</th>\n",
       "      <th>AAP</th>\n",
       "      <th>AAPL</th>\n",
       "      <th>ABC</th>\n",
       "      <th>ABMD</th>\n",
       "      <th>ABT</th>\n",
       "      <th>ACN</th>\n",
       "      <th>ADBE</th>\n",
       "      <th>ADI</th>\n",
       "      <th>...</th>\n",
       "      <th>XEL</th>\n",
       "      <th>XLNX</th>\n",
       "      <th>XOM</th>\n",
       "      <th>XRAY</th>\n",
       "      <th>XRX</th>\n",
       "      <th>XYL</th>\n",
       "      <th>YUM</th>\n",
       "      <th>ZBH</th>\n",
       "      <th>ZBRA</th>\n",
       "      <th>ZION</th>\n",
       "    </tr>\n",
       "    <tr>\n",
       "      <th>Stock</th>\n",
       "      <th></th>\n",
       "      <th></th>\n",
       "      <th></th>\n",
       "      <th></th>\n",
       "      <th></th>\n",
       "      <th></th>\n",
       "      <th></th>\n",
       "      <th></th>\n",
       "      <th></th>\n",
       "      <th></th>\n",
       "      <th></th>\n",
       "      <th></th>\n",
       "      <th></th>\n",
       "      <th></th>\n",
       "      <th></th>\n",
       "      <th></th>\n",
       "      <th></th>\n",
       "      <th></th>\n",
       "      <th></th>\n",
       "      <th></th>\n",
       "      <th></th>\n",
       "    </tr>\n",
       "  </thead>\n",
       "  <tbody>\n",
       "    <tr>\n",
       "      <th>A</th>\n",
       "      <td>0.003088</td>\n",
       "      <td>0.001517</td>\n",
       "      <td>0.001019</td>\n",
       "      <td>0.000527</td>\n",
       "      <td>0.000713</td>\n",
       "      <td>0.000927</td>\n",
       "      <td>0.000983</td>\n",
       "      <td>0.001065</td>\n",
       "      <td>0.001147</td>\n",
       "      <td>0.001310</td>\n",
       "      <td>...</td>\n",
       "      <td>0.000393</td>\n",
       "      <td>0.001288</td>\n",
       "      <td>0.000767</td>\n",
       "      <td>0.001042</td>\n",
       "      <td>0.001389</td>\n",
       "      <td>0.001438</td>\n",
       "      <td>0.001090</td>\n",
       "      <td>0.001081</td>\n",
       "      <td>0.001275</td>\n",
       "      <td>0.001329</td>\n",
       "    </tr>\n",
       "    <tr>\n",
       "      <th>AAL</th>\n",
       "      <td>0.001517</td>\n",
       "      <td>0.008833</td>\n",
       "      <td>0.001160</td>\n",
       "      <td>0.000584</td>\n",
       "      <td>0.000971</td>\n",
       "      <td>0.001653</td>\n",
       "      <td>0.000783</td>\n",
       "      <td>0.001098</td>\n",
       "      <td>0.001685</td>\n",
       "      <td>0.001289</td>\n",
       "      <td>...</td>\n",
       "      <td>0.000433</td>\n",
       "      <td>0.001096</td>\n",
       "      <td>0.000469</td>\n",
       "      <td>0.001126</td>\n",
       "      <td>0.001270</td>\n",
       "      <td>0.001581</td>\n",
       "      <td>0.001325</td>\n",
       "      <td>0.001043</td>\n",
       "      <td>0.001584</td>\n",
       "      <td>0.001349</td>\n",
       "    </tr>\n",
       "    <tr>\n",
       "      <th>AAP</th>\n",
       "      <td>0.001019</td>\n",
       "      <td>0.001160</td>\n",
       "      <td>0.003829</td>\n",
       "      <td>0.000420</td>\n",
       "      <td>0.000607</td>\n",
       "      <td>0.000997</td>\n",
       "      <td>0.000937</td>\n",
       "      <td>0.000699</td>\n",
       "      <td>0.001068</td>\n",
       "      <td>0.000800</td>\n",
       "      <td>...</td>\n",
       "      <td>0.000485</td>\n",
       "      <td>0.000875</td>\n",
       "      <td>0.000479</td>\n",
       "      <td>0.000670</td>\n",
       "      <td>0.000995</td>\n",
       "      <td>0.000844</td>\n",
       "      <td>0.000823</td>\n",
       "      <td>0.000714</td>\n",
       "      <td>0.000760</td>\n",
       "      <td>0.000870</td>\n",
       "    </tr>\n",
       "  </tbody>\n",
       "</table>\n",
       "<p>3 rows × 465 columns</p>\n",
       "</div>"
      ],
      "text/plain": [
       "Stock         A       AAL       AAP      AAPL       ABC      ABMD       ABT  \\\n",
       "Stock                                                                         \n",
       "A      0.003088  0.001517  0.001019  0.000527  0.000713  0.000927  0.000983   \n",
       "AAL    0.001517  0.008833  0.001160  0.000584  0.000971  0.001653  0.000783   \n",
       "AAP    0.001019  0.001160  0.003829  0.000420  0.000607  0.000997  0.000937   \n",
       "\n",
       "Stock       ACN      ADBE       ADI  ...       XEL      XLNX       XOM  \\\n",
       "Stock                                ...                                 \n",
       "A      0.001065  0.001147  0.001310  ...  0.000393  0.001288  0.000767   \n",
       "AAL    0.001098  0.001685  0.001289  ...  0.000433  0.001096  0.000469   \n",
       "AAP    0.000699  0.001068  0.000800  ...  0.000485  0.000875  0.000479   \n",
       "\n",
       "Stock      XRAY       XRX       XYL       YUM       ZBH      ZBRA      ZION  \n",
       "Stock                                                                        \n",
       "A      0.001042  0.001389  0.001438  0.001090  0.001081  0.001275  0.001329  \n",
       "AAL    0.001126  0.001270  0.001581  0.001325  0.001043  0.001584  0.001349  \n",
       "AAP    0.000670  0.000995  0.000844  0.000823  0.000714  0.000760  0.000870  \n",
       "\n",
       "[3 rows x 465 columns]"
      ]
     },
     "execution_count": 147,
     "metadata": {},
     "output_type": "execute_result"
    }
   ],
   "source": [
    "vol_anual.head(3)"
   ]
  },
  {
   "cell_type": "code",
   "execution_count": 18,
   "metadata": {},
   "outputs": [],
   "source": [
    "# Generacion de ventanas de rendimeinto de S&P\n",
    "fechas_final = ['2014-12-31', '2015-03-31', '2015-06-30', '2015-09-30',\n",
    "                '2015-12-31', '2016-03-31', '2016-06-30', '2016-09-30',\n",
    "                '2016-12-31', '2017-03-31', '2017-06-30', '2017-09-30',\n",
    "                '2017-12-31', '2018-03-31', '2018-06-30', '2018-09-30',\n",
    "                '2018-12-31', '2019-03-31', '2019-06-30', '2019-09-30',\n",
    "                '2019-12-31', '2020-03-31', '2020-06-30']"
   ]
  },
  {
   "cell_type": "code",
   "execution_count": 19,
   "metadata": {},
   "outputs": [],
   "source": [
    "fechas_inicial = ['2013-01-01', '2013-04-01', '2013-07-01', '2013-10-01',\n",
    "                  '2014-01-01', '2014-04-01', '2014-07-01', '2014-10-01',\n",
    "                  '2015-01-01', '2015-04-01', '2015-07-01', '2015-10-01',\n",
    "                  '2016-01-01', '2016-04-01', '2016-07-01', '2016-10-01',\n",
    "                  '2017-01-01', '2017-04-01', '2017-07-01', '2017-10-01',\n",
    "                  '2018-01-01', '2018-04-01', '2018-07-01']\n",
    "\n"
   ]
  },
  {
   "cell_type": "code",
   "execution_count": 36,
   "metadata": {},
   "outputs": [],
   "source": [
    "datos_syp = pd.read_csv('./Data_DE/GSPC_DE.csv')"
   ]
  },
  {
   "cell_type": "code",
   "execution_count": 37,
   "metadata": {},
   "outputs": [
    {
     "data": {
      "text/html": [
       "<div>\n",
       "<style scoped>\n",
       "    .dataframe tbody tr th:only-of-type {\n",
       "        vertical-align: middle;\n",
       "    }\n",
       "\n",
       "    .dataframe tbody tr th {\n",
       "        vertical-align: top;\n",
       "    }\n",
       "\n",
       "    .dataframe thead th {\n",
       "        text-align: right;\n",
       "    }\n",
       "</style>\n",
       "<table border=\"1\" class=\"dataframe\">\n",
       "  <thead>\n",
       "    <tr style=\"text-align: right;\">\n",
       "      <th></th>\n",
       "      <th>Date</th>\n",
       "      <th>S&amp;P Return</th>\n",
       "    </tr>\n",
       "  </thead>\n",
       "  <tbody>\n",
       "    <tr>\n",
       "      <th>0</th>\n",
       "      <td>2013-01-02</td>\n",
       "      <td>0.025403</td>\n",
       "    </tr>\n",
       "    <tr>\n",
       "      <th>1</th>\n",
       "      <td>2013-01-03</td>\n",
       "      <td>-0.002086</td>\n",
       "    </tr>\n",
       "  </tbody>\n",
       "</table>\n",
       "</div>"
      ],
      "text/plain": [
       "         Date  S&P Return\n",
       "0  2013-01-02    0.025403\n",
       "1  2013-01-03   -0.002086"
      ]
     },
     "execution_count": 37,
     "metadata": {},
     "output_type": "execute_result"
    }
   ],
   "source": [
    "datos_syp.head(2)"
   ]
  },
  {
   "cell_type": "code",
   "execution_count": 38,
   "metadata": {},
   "outputs": [
    {
     "data": {
      "text/plain": [
       "'2013-01-01'"
      ]
     },
     "execution_count": 38,
     "metadata": {},
     "output_type": "execute_result"
    }
   ],
   "source": [
    "fechas_inicial[0]"
   ]
  },
  {
   "cell_type": "code",
   "execution_count": 39,
   "metadata": {},
   "outputs": [
    {
     "data": {
      "text/plain": [
       "'2014-12-31'"
      ]
     },
     "execution_count": 39,
     "metadata": {},
     "output_type": "execute_result"
    }
   ],
   "source": [
    "fechas_final[0]"
   ]
  },
  {
   "cell_type": "code",
   "execution_count": 43,
   "metadata": {},
   "outputs": [],
   "source": [
    "data_per1 = datos_syp[(datos_syp['Date']>=fechas_inicial[0]) & (datos_syp['Date']<=fechas_final[0])]"
   ]
  },
  {
   "cell_type": "code",
   "execution_count": 44,
   "metadata": {},
   "outputs": [
    {
     "data": {
      "text/html": [
       "<div>\n",
       "<style scoped>\n",
       "    .dataframe tbody tr th:only-of-type {\n",
       "        vertical-align: middle;\n",
       "    }\n",
       "\n",
       "    .dataframe tbody tr th {\n",
       "        vertical-align: top;\n",
       "    }\n",
       "\n",
       "    .dataframe thead th {\n",
       "        text-align: right;\n",
       "    }\n",
       "</style>\n",
       "<table border=\"1\" class=\"dataframe\">\n",
       "  <thead>\n",
       "    <tr style=\"text-align: right;\">\n",
       "      <th></th>\n",
       "      <th>Date</th>\n",
       "      <th>S&amp;P Return</th>\n",
       "    </tr>\n",
       "  </thead>\n",
       "  <tbody>\n",
       "    <tr>\n",
       "      <th>0</th>\n",
       "      <td>2013-01-02</td>\n",
       "      <td>0.025403</td>\n",
       "    </tr>\n",
       "    <tr>\n",
       "      <th>1</th>\n",
       "      <td>2013-01-03</td>\n",
       "      <td>-0.002086</td>\n",
       "    </tr>\n",
       "    <tr>\n",
       "      <th>2</th>\n",
       "      <td>2013-01-04</td>\n",
       "      <td>0.004865</td>\n",
       "    </tr>\n",
       "    <tr>\n",
       "      <th>3</th>\n",
       "      <td>2013-01-07</td>\n",
       "      <td>-0.003123</td>\n",
       "    </tr>\n",
       "    <tr>\n",
       "      <th>4</th>\n",
       "      <td>2013-01-08</td>\n",
       "      <td>-0.003242</td>\n",
       "    </tr>\n",
       "    <tr>\n",
       "      <th>...</th>\n",
       "      <td>...</td>\n",
       "      <td>...</td>\n",
       "    </tr>\n",
       "    <tr>\n",
       "      <th>499</th>\n",
       "      <td>2014-12-24</td>\n",
       "      <td>-0.000139</td>\n",
       "    </tr>\n",
       "    <tr>\n",
       "      <th>500</th>\n",
       "      <td>2014-12-26</td>\n",
       "      <td>0.003310</td>\n",
       "    </tr>\n",
       "    <tr>\n",
       "      <th>501</th>\n",
       "      <td>2014-12-29</td>\n",
       "      <td>0.000862</td>\n",
       "    </tr>\n",
       "    <tr>\n",
       "      <th>502</th>\n",
       "      <td>2014-12-30</td>\n",
       "      <td>-0.004889</td>\n",
       "    </tr>\n",
       "    <tr>\n",
       "      <th>503</th>\n",
       "      <td>2014-12-31</td>\n",
       "      <td>-0.010311</td>\n",
       "    </tr>\n",
       "  </tbody>\n",
       "</table>\n",
       "<p>504 rows × 2 columns</p>\n",
       "</div>"
      ],
      "text/plain": [
       "           Date  S&P Return\n",
       "0    2013-01-02    0.025403\n",
       "1    2013-01-03   -0.002086\n",
       "2    2013-01-04    0.004865\n",
       "3    2013-01-07   -0.003123\n",
       "4    2013-01-08   -0.003242\n",
       "..          ...         ...\n",
       "499  2014-12-24   -0.000139\n",
       "500  2014-12-26    0.003310\n",
       "501  2014-12-29    0.000862\n",
       "502  2014-12-30   -0.004889\n",
       "503  2014-12-31   -0.010311\n",
       "\n",
       "[504 rows x 2 columns]"
      ]
     },
     "execution_count": 44,
     "metadata": {},
     "output_type": "execute_result"
    }
   ],
   "source": [
    "data_per1"
   ]
  },
  {
   "cell_type": "code",
   "execution_count": 41,
   "metadata": {},
   "outputs": [
    {
     "data": {
      "text/plain": [
       "Date           object\n",
       "S&P Return    float64\n",
       "dtype: object"
      ]
     },
     "execution_count": 41,
     "metadata": {},
     "output_type": "execute_result"
    }
   ],
   "source": [
    "datos_syp.dtypes"
   ]
  },
  {
   "cell_type": "code",
   "execution_count": 49,
   "metadata": {},
   "outputs": [],
   "source": [
    "(BETA, ALPHA, R, P, SE) = stats.linregress(data_per1['S&P Return'],datos1.A)"
   ]
  },
  {
   "cell_type": "code",
   "execution_count": 50,
   "metadata": {},
   "outputs": [
    {
     "data": {
      "text/plain": [
       "1.2266924602333462"
      ]
     },
     "execution_count": 50,
     "metadata": {},
     "output_type": "execute_result"
    }
   ],
   "source": [
    "BETA"
   ]
  },
  {
   "cell_type": "code",
   "execution_count": 51,
   "metadata": {},
   "outputs": [],
   "source": [
    "def calculoBeta(syp, accion):\n",
    "    Beta_temp,_,_,_,_ = stats.linregress(syp,accion)\n",
    "    return Beta_temp"
   ]
  },
  {
   "cell_type": "code",
   "execution_count": 52,
   "metadata": {},
   "outputs": [
    {
     "data": {
      "text/plain": [
       "1.2266924602333462"
      ]
     },
     "execution_count": 52,
     "metadata": {},
     "output_type": "execute_result"
    }
   ],
   "source": [
    "calculoBeta(data_per1['S&P Return'],datos1.A)"
   ]
  },
  {
   "cell_type": "code",
   "execution_count": 142,
   "metadata": {},
   "outputs": [],
   "source": [
    "def beta_df(syp, matrix):\n",
    "    salida = pd.DataFrame()\n",
    "    betas = list()\n",
    "    nombres = matrix.columns\n",
    "    for columna in matrix:\n",
    "        temp0 = matrix[columna].to_numpy()\n",
    "        temp = calculoBeta(syp, temp0)\n",
    "        betas.append(temp)\n",
    "    salida = pd.DataFrame(list(zip(nombres, betas))).transpose()\n",
    "    salida.columns = salida.iloc[0]\n",
    "    salida.drop([0], inplace=True)\n",
    "    return salida\n",
    "        \n",
    "        "
   ]
  },
  {
   "cell_type": "code",
   "execution_count": 143,
   "metadata": {},
   "outputs": [],
   "source": [
    "betas_list = beta_df( data_per1['S&P Return'], datos1)"
   ]
  },
  {
   "cell_type": "code",
   "execution_count": 144,
   "metadata": {},
   "outputs": [
    {
     "data": {
      "text/html": [
       "<div>\n",
       "<style scoped>\n",
       "    .dataframe tbody tr th:only-of-type {\n",
       "        vertical-align: middle;\n",
       "    }\n",
       "\n",
       "    .dataframe tbody tr th {\n",
       "        vertical-align: top;\n",
       "    }\n",
       "\n",
       "    .dataframe thead th {\n",
       "        text-align: right;\n",
       "    }\n",
       "</style>\n",
       "<table border=\"1\" class=\"dataframe\">\n",
       "  <thead>\n",
       "    <tr style=\"text-align: right;\">\n",
       "      <th></th>\n",
       "      <th>A</th>\n",
       "      <th>AAL</th>\n",
       "      <th>AAP</th>\n",
       "      <th>AAPL</th>\n",
       "      <th>ABC</th>\n",
       "      <th>ABMD</th>\n",
       "      <th>ABT</th>\n",
       "      <th>ACN</th>\n",
       "      <th>ADBE</th>\n",
       "      <th>ADI</th>\n",
       "      <th>...</th>\n",
       "      <th>XEL</th>\n",
       "      <th>XLNX</th>\n",
       "      <th>XOM</th>\n",
       "      <th>XRAY</th>\n",
       "      <th>XRX</th>\n",
       "      <th>XYL</th>\n",
       "      <th>YUM</th>\n",
       "      <th>ZBH</th>\n",
       "      <th>ZBRA</th>\n",
       "      <th>ZION</th>\n",
       "    </tr>\n",
       "  </thead>\n",
       "  <tbody>\n",
       "    <tr>\n",
       "      <th>1</th>\n",
       "      <td>1.22669</td>\n",
       "      <td>1.35067</td>\n",
       "      <td>0.94306</td>\n",
       "      <td>0.730989</td>\n",
       "      <td>0.754346</td>\n",
       "      <td>1.10738</td>\n",
       "      <td>0.947134</td>\n",
       "      <td>1.02088</td>\n",
       "      <td>1.22362</td>\n",
       "      <td>1.17498</td>\n",
       "      <td>...</td>\n",
       "      <td>0.610174</td>\n",
       "      <td>1.1202</td>\n",
       "      <td>0.887627</td>\n",
       "      <td>0.934686</td>\n",
       "      <td>1.34806</td>\n",
       "      <td>1.23377</td>\n",
       "      <td>0.973174</td>\n",
       "      <td>1.0095</td>\n",
       "      <td>0.986499</td>\n",
       "      <td>1.18828</td>\n",
       "    </tr>\n",
       "  </tbody>\n",
       "</table>\n",
       "<p>1 rows × 465 columns</p>\n",
       "</div>"
      ],
      "text/plain": [
       "0        A      AAL      AAP      AAPL       ABC     ABMD       ABT      ACN  \\\n",
       "1  1.22669  1.35067  0.94306  0.730989  0.754346  1.10738  0.947134  1.02088   \n",
       "\n",
       "0     ADBE      ADI  ...       XEL    XLNX       XOM      XRAY      XRX  \\\n",
       "1  1.22362  1.17498  ...  0.610174  1.1202  0.887627  0.934686  1.34806   \n",
       "\n",
       "0      XYL       YUM     ZBH      ZBRA     ZION  \n",
       "1  1.23377  0.973174  1.0095  0.986499  1.18828  \n",
       "\n",
       "[1 rows x 465 columns]"
      ]
     },
     "execution_count": 144,
     "metadata": {},
     "output_type": "execute_result"
    }
   ],
   "source": [
    "betas_list"
   ]
  },
  {
   "cell_type": "code",
   "execution_count": 157,
   "metadata": {},
   "outputs": [
    {
     "name": "stdout",
     "output_type": "stream",
     "text": [
      "(1, 465)\n",
      "(465, 465)\n",
      "(1, 465)\n"
     ]
    }
   ],
   "source": [
    "retornos = pd.DataFrame(retornos)\n",
    "retorno_np = retornos.to_numpy().transpose()\n",
    "print (retorno_np.shape)\n",
    "vol_anual_np = vol_anual.to_numpy()\n",
    "print (vol_anual_np.shape)\n",
    "betas_list_np = betas_list.to_numpy()\n",
    "print (betas_list_np.shape)\n",
    "\n",
    "final_df = np.vstack((retorno_np, vol_anual_np, betas_list_np))"
   ]
  },
  {
   "cell_type": "code",
   "execution_count": 160,
   "metadata": {},
   "outputs": [
    {
     "data": {
      "text/plain": [
       "(467, 465)"
      ]
     },
     "execution_count": 160,
     "metadata": {},
     "output_type": "execute_result"
    }
   ],
   "source": [
    "final_df.shape"
   ]
  },
  {
   "cell_type": "code",
   "execution_count": 161,
   "metadata": {},
   "outputs": [],
   "source": [
    "final_df = pd.DataFrame(final_df, columns=datos1.columns)"
   ]
  },
  {
   "cell_type": "code",
   "execution_count": 165,
   "metadata": {},
   "outputs": [],
   "source": [
    "name = fechas_inicial[0]+\"-\"+fechas_final[0]+\".csv\"\n",
    "final_df.to_csv('./Data_DE/'+name , index=False)"
   ]
  },
  {
   "cell_type": "markdown",
   "metadata": {},
   "source": [
    "### para todos"
   ]
  },
  {
   "cell_type": "code",
   "execution_count": 190,
   "metadata": {},
   "outputs": [],
   "source": [
    "def crear_csv(fechas_inicial, fechas_final, path_data):\n",
    "    datos = carga_datos(path_data)\n",
    "    retornos_anual = annualize_rets(datos, 253)\n",
    "    vol_mat = datos.cov()*np.sqrt(253)\n",
    "    datos_syp = pd.read_csv('./Data_DE/GSPC_DE.csv')\n",
    "    data_per = datos_syp[(datos_syp['Date']>=fechas_inicial)  & (datos_syp['Date']<=fechas_final)]\n",
    "    beta = beta_df(data_per['S&P Return'], datos)\n",
    "    \n",
    "    retornos = pd.DataFrame(retornos_anual)\n",
    "    retorno_np = retornos.to_numpy().transpose()\n",
    "    #print (retorno_np.shape)\n",
    "    vol_anual_np = vol_mat.to_numpy()\n",
    "    #print (vol_anual_np.shape)\n",
    "    betas_list_np = beta.to_numpy()\n",
    "    #print (betas_list_np.shape)\n",
    "    final_df = np.vstack((retorno_np, vol_anual_np, betas_list_np))\n",
    "    final_df = pd.DataFrame(final_df, columns=datos1.columns)\n",
    "    name = fechas_inicial+\"-\"+fechas_final+\".csv\"\n",
    "    final_df.to_csv('./Data_DE/'+name , index=False)\n",
    "    return name"
   ]
  },
  {
   "cell_type": "code",
   "execution_count": 191,
   "metadata": {},
   "outputs": [
    {
     "data": {
      "text/plain": [
       "'2013-01-01-2014-12-31.csv'"
      ]
     },
     "execution_count": 191,
     "metadata": {},
     "output_type": "execute_result"
    }
   ],
   "source": [
    "crear_csv(fechas_inicial[0], fechas_final[0], './Data/train/opt-20130101-20141231.gzip' )"
   ]
  },
  {
   "cell_type": "code",
   "execution_count": 201,
   "metadata": {},
   "outputs": [],
   "source": [
    "list_files_train = os.listdir('./Data/train/')\n"
   ]
  },
  {
   "cell_type": "code",
   "execution_count": 206,
   "metadata": {},
   "outputs": [],
   "source": [
    "final_list = list()\n",
    "for file in list_files_train:\n",
    "    if file.endswith('gzip'):\n",
    "        final_list.append(file)"
   ]
  },
  {
   "cell_type": "code",
   "execution_count": 207,
   "metadata": {},
   "outputs": [
    {
     "data": {
      "text/plain": [
       "['opt-20130101-20141231.gzip',\n",
       " 'opt-20130401-20150331.gzip',\n",
       " 'opt-20130701-20150630.gzip',\n",
       " 'opt-20131001-20150930.gzip',\n",
       " 'opt-20140101-20151231.gzip',\n",
       " 'opt-20140401-20160331.gzip',\n",
       " 'opt-20140701-20160630.gzip',\n",
       " 'opt-20141001-20160930.gzip',\n",
       " 'opt-20150101-20161231.gzip',\n",
       " 'opt-20150401-20170331.gzip',\n",
       " 'opt-20150701-20170630.gzip',\n",
       " 'opt-20151001-20170930.gzip',\n",
       " 'opt-20160101-20171231.gzip',\n",
       " 'opt-20160401-20180331.gzip',\n",
       " 'opt-20160701-20180630.gzip',\n",
       " 'opt-20161001-20180930.gzip',\n",
       " 'opt-20170101-20181231.gzip',\n",
       " 'opt-20170401-20190331.gzip',\n",
       " 'opt-20170701-20190630.gzip',\n",
       " 'opt-20171001-20190930.gzip',\n",
       " 'opt-20180101-20191231.gzip',\n",
       " 'opt-20180401-20200331.gzip',\n",
       " 'opt-20180701-20200630.gzip',\n",
       " 'opt-20181001-20200930.gzip']"
      ]
     },
     "execution_count": 207,
     "metadata": {},
     "output_type": "execute_result"
    }
   ],
   "source": [
    "final_list"
   ]
  },
  {
   "cell_type": "code",
   "execution_count": 210,
   "metadata": {},
   "outputs": [],
   "source": [
    "for i in range(len(fechas_final)):\n",
    "    path_aux = os.path.join('./Data/train/',final_list[i])\n",
    "    crear_csv(fechas_inicial[i], fechas_final[i], path_aux )"
   ]
  },
  {
   "cell_type": "code",
   "execution_count": null,
   "metadata": {},
   "outputs": [],
   "source": []
  }
 ],
 "metadata": {
  "kernelspec": {
   "display_name": "Python 3",
   "language": "python",
   "name": "python3"
  },
  "language_info": {
   "codemirror_mode": {
    "name": "ipython",
    "version": 3
   },
   "file_extension": ".py",
   "mimetype": "text/x-python",
   "name": "python",
   "nbconvert_exporter": "python",
   "pygments_lexer": "ipython3",
   "version": "3.8.5"
  }
 },
 "nbformat": 4,
 "nbformat_minor": 4
}
